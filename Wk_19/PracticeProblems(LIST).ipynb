{
 "cells": [
  {
   "cell_type": "markdown",
   "id": "f942fea3",
   "metadata": {},
   "source": [
    "### 1) Python program to interchange first and last elements in a list\n",
    "Example: \n",
    "\n",
    "Input : [12, 35, 9, 56, 24]\n",
    "Output : [24, 35, 9, 56, 12]"
   ]
  },
  {
   "cell_type": "code",
   "execution_count": 134,
   "id": "bff77d86",
   "metadata": {},
   "outputs": [],
   "source": [
    "def Interchange(l):\n",
    "    l.insert(0,l.pop())\n",
    "    l.append(l.pop(1))\n",
    "\n",
    "    return l"
   ]
  },
  {
   "cell_type": "code",
   "execution_count": 135,
   "id": "defeebd1",
   "metadata": {},
   "outputs": [
    {
     "data": {
      "text/plain": [
       "[24, 35, 9, 56, 12]"
      ]
     },
     "execution_count": 135,
     "metadata": {},
     "output_type": "execute_result"
    }
   ],
   "source": [
    "l = [12, 35, 9, 56, 24]\n",
    "Interchange(l)"
   ]
  },
  {
   "cell_type": "markdown",
   "id": "014220ea",
   "metadata": {},
   "source": [
    "### 2) Python program to swap two elements in a list\n",
    "Examples: \n",
    "Input : List = [23, 65, 19, 90], pos1 = 1, pos2 = 3\n",
    "Output : [19, 65, 23, 90]\n",
    "\n",
    "Input : List = [1, 2, 3, 4, 5], pos1 = 2, pos2 = 5\n",
    "Output : [1, 5, 3, 4, 2]"
   ]
  },
  {
   "cell_type": "code",
   "execution_count": 136,
   "id": "eb58c509",
   "metadata": {},
   "outputs": [],
   "source": [
    "def Swap(l,one:int,two:int):\n",
    "    l.insert(one-1,l.pop(two-1))\n",
    "    l.insert(two-1,l.pop(one))\n",
    "\n",
    "    return l"
   ]
  },
  {
   "cell_type": "code",
   "execution_count": 137,
   "id": "f2c69daf",
   "metadata": {},
   "outputs": [
    {
     "data": {
      "text/plain": [
       "[19, 65, 23, 90]"
      ]
     },
     "execution_count": 137,
     "metadata": {},
     "output_type": "execute_result"
    }
   ],
   "source": [
    "List = [23, 65, 19, 90]\n",
    "Swap(List,1,3)"
   ]
  },
  {
   "cell_type": "markdown",
   "id": "fbb5cd2c",
   "metadata": {},
   "source": [
    "### 3) Python program to find length of list without using len() function"
   ]
  },
  {
   "cell_type": "code",
   "execution_count": 138,
   "id": "55d7655c",
   "metadata": {},
   "outputs": [],
   "source": [
    "def lenth(l):\n",
    "    c = 0\n",
    "    for i in l:\n",
    "        c += 1\n",
    "    return c  "
   ]
  },
  {
   "cell_type": "code",
   "execution_count": 139,
   "id": "6d5f664c",
   "metadata": {},
   "outputs": [
    {
     "data": {
      "text/plain": [
       "6"
      ]
     },
     "execution_count": 139,
     "metadata": {},
     "output_type": "execute_result"
    }
   ],
   "source": [
    "lenth([12, 17, 35, 9, 28, 24])"
   ]
  },
  {
   "cell_type": "markdown",
   "id": "2c745b08",
   "metadata": {},
   "source": [
    "### 4) Given 2 lists, make another 2 lists, one containing common elements and second containing uncommon elements from given lists.\n",
    "Examples:\n",
    "Input : L1=[12, 17, 35, 9, 28, 24]\n",
    "\tL2=[2, 50, 24, 9, 56, 12]\n",
    "\n",
    "Output : CommonElements = [12,9,24]\n",
    "\tUncommonElements = [17, 35, 28, 2, 50, 56]"
   ]
  },
  {
   "cell_type": "code",
   "execution_count": 140,
   "id": "a1c82c65",
   "metadata": {},
   "outputs": [],
   "source": [
    "class Seperation:\n",
    "    \n",
    "    def __init__(self, list1, list2):\n",
    "        \n",
    "        self.list1 = set(list1)\n",
    "        self.list2 = set(list2)\n",
    "        \n",
    "    def common(self):\n",
    "        \n",
    "        CommonElements = list(self.list1&self.list2)\n",
    "                    \n",
    "        return CommonElements\n",
    "    \n",
    "    def uncommon(self):\n",
    "        \n",
    "        UncommonElements = list(self.list1^self.list2)\n",
    "                    \n",
    "        return UncommonElements"
   ]
  },
  {
   "cell_type": "code",
   "execution_count": 141,
   "id": "0711c63f",
   "metadata": {},
   "outputs": [
    {
     "name": "stdout",
     "output_type": "stream",
     "text": [
      "[24, 9, 12] [17, 2, 50, 35, 56, 28]\n"
     ]
    }
   ],
   "source": [
    "x = Seperation([12, 17, 35, 9, 28, 24],[2, 50, 24, 9, 56, 12])\n",
    "print(x.common(), x.uncommon())"
   ]
  },
  {
   "cell_type": "markdown",
   "id": "6524c2d1",
   "metadata": {},
   "source": [
    "### 5) Given a nested list, write a program to sort the inner lists alternatively in increasing and decreasing order.\n",
    "\n",
    "Examples: input = [[3,6,4,9,5],[1,4,7,2,5],[8,3,6,4]]\n",
    "\n",
    "\toutput = [[3,4,5,6,9],[7,5,4,2,1],[3,4,6,8]]"
   ]
  },
  {
   "cell_type": "code",
   "execution_count": 142,
   "id": "e0953630",
   "metadata": {},
   "outputs": [],
   "source": [
    "def NestedSort(l):\n",
    "    L = list()\n",
    "    c = 0\n",
    "    for i in l:\n",
    "        i.sort() if c%2 == 0 else i.sort(reverse = True)\n",
    "        c += 1\n",
    "        L.append(i)\n",
    "    return L"
   ]
  },
  {
   "cell_type": "code",
   "execution_count": 143,
   "id": "1dc7f2dc",
   "metadata": {},
   "outputs": [
    {
     "data": {
      "text/plain": [
       "[[3, 4, 5, 6, 9], [7, 5, 4, 2, 1], [3, 4, 6, 8]]"
      ]
     },
     "execution_count": 143,
     "metadata": {},
     "output_type": "execute_result"
    }
   ],
   "source": [
    "NestedSort([[3,6,4,9,5],[1,4,7,2,5],[8,3,6,4]])"
   ]
  },
  {
   "cell_type": "markdown",
   "id": "e01f17f9",
   "metadata": {},
   "source": [
    "### 6) Given a list of integers, take two inputs from user (Small number and larger number). Create a list of integers from given list that are present in the range of small and large numbers.\n",
    "\n",
    "Example: Given : L=[2,6,4,1,8,3,5,9]\n",
    "\ttake input from user: smallNumber = 5\n",
    "\t\t\t\tlargeNumber = 9\n",
    "\toutput: [6,8,5,9]"
   ]
  },
  {
   "cell_type": "code",
   "execution_count": 144,
   "id": "04b4e2f2",
   "metadata": {},
   "outputs": [],
   "source": [
    "def ListFilter(L, Sn, Ln):\n",
    "    return [ i for i in L if Sn<=i<=Ln ]"
   ]
  },
  {
   "cell_type": "code",
   "execution_count": 145,
   "id": "57f2cd46",
   "metadata": {},
   "outputs": [
    {
     "data": {
      "text/plain": [
       "[6, 8, 5, 9]"
      ]
     },
     "execution_count": 145,
     "metadata": {},
     "output_type": "execute_result"
    }
   ],
   "source": [
    "ListFilter([2,6,4,1,8,3,5,9] ,5 , 9)"
   ]
  },
  {
   "cell_type": "markdown",
   "id": "764924bc",
   "metadata": {},
   "source": [
    "### 7) Given a list of integers, create a list containing addition of adjacent pairs in a given list\n",
    "Example: Input=[12, 1, 5, 9, 2, 30]\n",
    "\tOutput=[13,14,32]\n",
    "\t\n",
    "\tInput=[6,2,6,8,2]\n",
    "\tOutput=[8,14,2]"
   ]
  },
  {
   "cell_type": "code",
   "execution_count": 146,
   "id": "721b1eaa",
   "metadata": {},
   "outputs": [],
   "source": [
    "def ListPair(l):\n",
    "    return [l.pop(1)+l.pop(0) for _ in range(int(lenth(l)/2))]"
   ]
  },
  {
   "cell_type": "code",
   "execution_count": 147,
   "id": "585722a8",
   "metadata": {},
   "outputs": [
    {
     "data": {
      "text/plain": [
       "[13, 14, 32]"
      ]
     },
     "execution_count": 147,
     "metadata": {},
     "output_type": "execute_result"
    }
   ],
   "source": [
    "ListPair([12, 1, 5, 9, 2, 30] )"
   ]
  },
  {
   "cell_type": "markdown",
   "id": "c1df7b3b",
   "metadata": {},
   "source": [
    "### 8) Given a list, find the number of elements that are unique in the given list\n",
    "\n",
    "Example: Input=[12, 1, 5, 9, 2, 5, 1, 3, 12]# because 9,2 and 3 these are the three elements that are unique\n",
    "\tOutput=3\n",
    "\t\n",
    "\tInput=[6,2,6,8,2]\n",
    "\tOutput=1"
   ]
  },
  {
   "cell_type": "code",
   "execution_count": 148,
   "id": "7a10c07a",
   "metadata": {},
   "outputs": [],
   "source": [
    "def UniqueElement(l):\n",
    "    return lenth([ i for i in set(l) if l.count(i)==1])"
   ]
  },
  {
   "cell_type": "code",
   "execution_count": 149,
   "id": "18774cf8",
   "metadata": {},
   "outputs": [
    {
     "data": {
      "text/plain": [
       "3"
      ]
     },
     "execution_count": 149,
     "metadata": {},
     "output_type": "execute_result"
    }
   ],
   "source": [
    "UniqueElement([12, 1, 5, 9, 2, 5, 1, 3, 12])"
   ]
  },
  {
   "cell_type": "markdown",
   "id": "6e7e25b4",
   "metadata": {},
   "source": [
    "### 9) Implement the function unique_in_order which takes as argument a sequence and returns a list of items\n",
    "without any elements with the same value next to each other and preserving the original order of elements.\n",
    "\n",
    "For example:\n",
    "unique_in_order('AAAABBBCCDAABBB') ==> ['A', 'B', 'C', 'D', 'A', 'B']\n",
    "unique_in_order('ABBCcAD')         == ['A', 'B', 'C', 'c', 'A', 'D']\n",
    "unique_in_order([1,2,2,3,3])       == [1,2,3]"
   ]
  },
  {
   "cell_type": "code",
   "execution_count": 150,
   "id": "afdbf97c",
   "metadata": {},
   "outputs": [],
   "source": [
    "def unique_in_order(s):\n",
    "    import itertools\n",
    "    \n",
    "    s = itertools.groupby(s)\n",
    "              \n",
    "    return [i[0] for i in s]"
   ]
  },
  {
   "cell_type": "code",
   "execution_count": 151,
   "id": "6593d4c3",
   "metadata": {},
   "outputs": [
    {
     "data": {
      "text/plain": [
       "['A', 'B', 'C', 'D', 'A', 'B']"
      ]
     },
     "execution_count": 151,
     "metadata": {},
     "output_type": "execute_result"
    }
   ],
   "source": [
    "unique_in_order('AAAABBBCCDAABBB')"
   ]
  },
  {
   "cell_type": "markdown",
   "id": "5eb68c36",
   "metadata": {},
   "source": [
    "### 10) Write a function that will find all the anagrams of a word from a list.\n",
    "You will be given two inputs a word and an array with words.\n",
    "You should return an array of all the anagrams or an empty array\n",
    "if there are none. \n",
    "For example:\n",
    "anagrams('abba', ['aabb', 'abcd', 'bbaa', 'dada'])\n",
    "Output : ['aabb', 'bbaa']\n",
    "\n",
    "anagrams('racer', ['crazer', 'carer', 'racar', 'caers', 'racer']) \n",
    "Output : ['carer', 'racer']\n",
    "\n",
    "anagrams('laser', ['lazing', 'lazy',  'lacer'])\n",
    "Output : []"
   ]
  },
  {
   "cell_type": "code",
   "execution_count": 152,
   "id": "bb97cc32",
   "metadata": {},
   "outputs": [],
   "source": [
    "def FindAnagrams(word,List):\n",
    "    return [ i for i in List if set(i) == set(word) ]     "
   ]
  },
  {
   "cell_type": "code",
   "execution_count": 153,
   "id": "fa173ac4",
   "metadata": {},
   "outputs": [
    {
     "name": "stdout",
     "output_type": "stream",
     "text": [
      "['aabb', 'bbaa']\n",
      "['carer', 'racer']\n",
      "[]\n"
     ]
    }
   ],
   "source": [
    "print(FindAnagrams('abba', ['aabb', 'abcd', 'bbaa', 'dada']))\n",
    "print(FindAnagrams('racer', ['crazer', 'carer', 'racar', 'caers', 'racer']))\n",
    "print(FindAnagrams('laser', ['lazing', 'lazy', 'lacer']))"
   ]
  },
  {
   "cell_type": "code",
   "execution_count": null,
   "id": "28ee9f0f",
   "metadata": {},
   "outputs": [],
   "source": []
  }
 ],
 "metadata": {
  "kernelspec": {
   "display_name": "Python 3 (ipykernel)",
   "language": "python",
   "name": "python3"
  },
  "language_info": {
   "codemirror_mode": {
    "name": "ipython",
    "version": 3
   },
   "file_extension": ".py",
   "mimetype": "text/x-python",
   "name": "python",
   "nbconvert_exporter": "python",
   "pygments_lexer": "ipython3",
   "version": "3.10.1"
  }
 },
 "nbformat": 4,
 "nbformat_minor": 5
}
