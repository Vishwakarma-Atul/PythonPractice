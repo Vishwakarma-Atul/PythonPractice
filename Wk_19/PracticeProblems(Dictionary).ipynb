{
 "cells": [
  {
   "cell_type": "markdown",
   "id": "dce89360",
   "metadata": {},
   "source": [
    "### 1)Print the value of key ‘history’ from the below dict"
   ]
  },
  {
   "cell_type": "code",
   "execution_count": 1,
   "id": "f18496cb",
   "metadata": {},
   "outputs": [],
   "source": [
    "sampleDict = {\n",
    "    \"class\": {\n",
    "        \"student\": {\n",
    "            \"name\": \"Mike\",\n",
    "            \"marks\": {\n",
    "                \"physics\": 70,\n",
    "                \"history\": 80\n",
    "            }\n",
    "        }\n",
    "    }\n",
    "}\n",
    "\n",
    "#------------------------------"
   ]
  },
  {
   "cell_type": "code",
   "execution_count": 2,
   "id": "70e22a4e",
   "metadata": {},
   "outputs": [
    {
     "data": {
      "text/plain": [
       "80"
      ]
     },
     "execution_count": 2,
     "metadata": {},
     "output_type": "execute_result"
    }
   ],
   "source": [
    "sampleDict['class']['student']['marks']['history']"
   ]
  },
  {
   "cell_type": "markdown",
   "id": "72d49f08",
   "metadata": {},
   "source": [
    "### 2)How to convert nested tuples into custom key dictionary\n",
    "\n",
    "empdict = [(('Salary','of','Racx'), 12000), (('Salary','of','Tax'),80000)]\n",
    "\n",
    "output=>{'Salary of Racx': 12000, 'Salary of Tax': 80000}\n",
    "\n",
    "-------------------------------------------------"
   ]
  },
  {
   "cell_type": "code",
   "execution_count": 3,
   "id": "171ba52d",
   "metadata": {},
   "outputs": [
    {
     "data": {
      "text/plain": [
       "{'Salary of Racx': 12000, 'Salary of Tax': 80000}"
      ]
     },
     "execution_count": 3,
     "metadata": {},
     "output_type": "execute_result"
    }
   ],
   "source": [
    "empdict = [(('Salary','of','Racx'), 12000), (('Salary','of','Tax'),80000)]\n",
    "\n",
    "x = dict()\n",
    "for i in empdict:\n",
    "    x[' '.join(i[0])]= i[1]\n",
    "x "
   ]
  },
  {
   "cell_type": "markdown",
   "id": "924ac4de",
   "metadata": {},
   "source": [
    "### 3)Given a dictionary with values as lists, the task is to write a Python program to get the key with the maximum element at the Kth index by comparing the elements of each list.\n",
    "\n",
    "Input : test_dict = {‘Gfg’ : [4, 6, 8, 2], \n",
    "‘is’ : [1, 4, 5, 9], \n",
    "‘best’ :[2, 3, 4, 10], \n",
    "‘for’ :[4, 5, 2, 1], \n",
    "‘geeks’ :[2, 10, 1, 8]}, K = 3 \n",
    "Output : best \n",
    "Explanation : 2, 9, 10, 1, 8 are elements and 10 is maximum.\n",
    " \n",
    "\n",
    "Input : test_dict = {‘Gfg’ : [4, 6, 8, 2], \n",
    "‘is’ : [1, 4, 5, 9], \n",
    "‘best’ :[2, 3, 4, 10], \n",
    "‘for’ :[4, 5, 2, 1], \n",
    "‘geeks’ :[2, 10, 1, 8]}, K = 2 \n",
    "Output : Gfg \n",
    "Explanation : 8, 5, 4, 2, 1 are elements and 8 is maximum.\n",
    "\n",
    "---------------------------------------------------"
   ]
  },
  {
   "cell_type": "code",
   "execution_count": 4,
   "id": "6573d11c",
   "metadata": {},
   "outputs": [
    {
     "name": "stdout",
     "output_type": "stream",
     "text": [
      "Enter the value of K :2\n",
      "Gfg\n"
     ]
    }
   ],
   "source": [
    "test_dict = {'Gfg' : [4, 6, 8, 2], \n",
    "'is' : [1, 4, 5, 9], \n",
    "'best' :[2, 3, 4, 10], \n",
    "'for' :[4, 5, 2, 1], \n",
    "'geeks' :[2, 10, 1, 8]}\n",
    "\n",
    "n = int(input('Enter the value of K :'))\n",
    "assert n > 0, 'value should be Positive Integer'\n",
    "Kc = 0\n",
    "Vc = 0\n",
    "for j in test_dict:\n",
    "    if test_dict[j][n] >= Vc:\n",
    "        Vc = test_dict[j][n]\n",
    "        Kc = j\n",
    "    \n",
    "print(Kc)\n",
    "    \n"
   ]
  },
  {
   "cell_type": "markdown",
   "id": "8369878e",
   "metadata": {},
   "source": [
    "### 4)Given a dictionary with keys joined by a split character, the task is to write a Python program to turn the dictionary into nested and grouped dictionaries.\n",
    "\n",
    "Examples\n",
    "\n",
    "Input: test_dict = {“1-3” : 2, “1-8” : 10}, splt_chr = “-“\n",
    "\n",
    "Output: {‘1’: {‘3’: 2, ‘8’: 10}}\n",
    "\n",
    "Explanation : 1 is linked to 3 with value 2 and 8 with value 10, hence those elements are nested and values assigned.\n",
    "\n",
    "Input: test_dict = {“1-3” : 2, “8-7” : 0, “1-8” : 10, “8-6” : 15}, splt_chr = “-“\n",
    "\n",
    "Output: {‘1’: {‘3’: 2, ‘8’: 10}, ‘8’: {‘7’: 0, ‘6’: 15}}\n",
    "\n",
    "Explanation : 1 is linked to 3 with value 2 and 8 with value 10, similarly 8 is linked to 7 with value 0 and 6 with value 15, hence those elements are nested and values assigned.\n",
    "\n",
    "---------------------------------------------"
   ]
  },
  {
   "cell_type": "code",
   "execution_count": 5,
   "id": "6f61eef7",
   "metadata": {},
   "outputs": [
    {
     "name": "stdout",
     "output_type": "stream",
     "text": [
      "[]\n"
     ]
    },
    {
     "data": {
      "text/plain": [
       "{'1': []}"
      ]
     },
     "execution_count": 5,
     "metadata": {},
     "output_type": "execute_result"
    }
   ],
   "source": [
    "test_dict4 = {\"1-3\" : 2, \"1-8\" : 10}\n",
    "result = dict()\n",
    "d = dict()\n",
    "\n",
    "for k in test_dict4:\n",
    "    z = k.split('-')\n",
    "    \n",
    "    if z[0] in result:\n",
    "        d = list(result[z[0]])\n",
    "        print(d)\n",
    "       \n",
    "    \n",
    "    result[z[0]] = d\n",
    "    \n",
    "result\n",
    "    "
   ]
  },
  {
   "cell_type": "markdown",
   "id": "4aa204a9",
   "metadata": {},
   "source": [
    "### 5)WAP to Concatenate all keys which have similar values\n",
    "\n",
    "Given a dictionary with string keys and sets as values the task is to write a python program to concatenate keys all of which have similar values order irrespective.\n",
    "\n",
    "Input : test_dict = {‘gfg’ : {5, 4, 3}, ‘is’ : {4, 3, 5}, ‘best’ : {1, 4, 3}, ‘for’ : {1, 3, 4}, ‘geeks’ : {1, 2, 3}}\n",
    "\n",
    "Output : {‘gfg-is’: frozenset({3, 4, 5}), ‘best-for’: frozenset({1, 3, 4}), ‘geeks’: frozenset({1, 2, 3})}\n",
    "\n",
    "Explanation : Similar set keys are concatenated, {5, 4, 3} == {4, 3, 5}, hence gfg-is are concatenated.\n",
    "\n",
    "Input : test_dict = {‘gfg’ : {5, 4, 3}, ‘is’ : {4, 3, 5}, ‘geeks’ : {1, 2, 3}}\n",
    "\n",
    "Output : {‘gfg-is’: frozenset({3, 4, 5}), ‘geeks’: frozenset({1, 2, 3})}\n",
    "\n",
    "Explanation : Similar set keys are concatenated, {5, 4, 3} == {4, 3, 5}, hence gfg-is are concatenated.\n",
    "\n",
    "---------------------------------------"
   ]
  },
  {
   "cell_type": "code",
   "execution_count": 6,
   "id": "3768842f",
   "metadata": {},
   "outputs": [],
   "source": [
    "test_dict = {'gfg' : {5, 4, 3}, 'is' : {4, 3, 5}, 'best' : {1, 4, 3}, 'for' : {1, 3, 4}, 'geeks' : {1, 2, 3}}\n",
    "l = [1,2,3]\n",
    "def DictConcatenate(d):\n",
    "    d1 = dict()\n",
    "    c = None\n",
    "    for k in d:\n",
    "        if d[k] == c :\n",
    "            d1['-'.join([k,k2])] = d [k]\n",
    "    return d1"
   ]
  },
  {
   "cell_type": "code",
   "execution_count": 7,
   "id": "4e2a680f",
   "metadata": {},
   "outputs": [
    {
     "data": {
      "text/plain": [
       "{}"
      ]
     },
     "execution_count": 7,
     "metadata": {},
     "output_type": "execute_result"
    }
   ],
   "source": [
    "DictConcatenate({'gfg' : {5, 4, 3}, 'is' : {4, 3, 5}, 'best' : {1, 4, 3}, 'for' : {1, 3, 4}, 'geeks' : {1, 2, 3}})"
   ]
  },
  {
   "cell_type": "markdown",
   "id": "3ce8915b",
   "metadata": {},
   "source": [
    "### 6)WAP to find the key of maximum value tuples in a dictionary\n",
    "Input : test_dict = {‘gfg’ : (“a”, 3), ‘is’ : (“c”, 9), ‘best’ : (“k”, 10), ‘for’ : (“p”, 11), ‘geeks’ : (‘m’, 2)}\n",
    "\n",
    "Output : for\n",
    "\n",
    "Explanation : 11 is maximum value of tuple and for key “for”.\n",
    "\n",
    "Input : test_dict = {‘gfg’ : (“a”, 13), ‘is’ : (“c”, 9), ‘best’ : (“k”, 10), ‘for’ : (“p”, 1), ‘geeks’ : (‘m’, 2)}\n",
    "\n",
    "Output : gfg\n",
    "\n",
    "Explanation : 13 is maximum value of tuple and for key “gfg”.\n",
    "\n",
    "------------------------------------------------------------------"
   ]
  },
  {
   "cell_type": "code",
   "execution_count": 8,
   "id": "1aff634f",
   "metadata": {},
   "outputs": [],
   "source": [
    "def MaxValTup(d):\n",
    "    c = 0\n",
    "    z = None\n",
    "    for i in d:\n",
    "        if d[i][1]>c:\n",
    "            c = d[i][1]\n",
    "            z = i\n",
    "    return z"
   ]
  },
  {
   "cell_type": "code",
   "execution_count": 9,
   "id": "2362f307",
   "metadata": {},
   "outputs": [
    {
     "data": {
      "text/plain": [
       "'for'"
      ]
     },
     "execution_count": 9,
     "metadata": {},
     "output_type": "execute_result"
    }
   ],
   "source": [
    "MaxValTup({'gfg' : ('a', 3), 'is' : ('c', 9), 'best' : ('k', 10), 'for' : ('p', 11), 'geeks' : ('m', 2)})"
   ]
  },
  {
   "cell_type": "markdown",
   "id": "f9f642cf",
   "metadata": {},
   "source": [
    "### 7)WAP to get all unique keys from a List of Dictionaries\n",
    "\n",
    "Input: arr = [{‘my’: 1, ‘name’: 2}, {‘is’: 1, ‘my’: 3}, {‘ria’: 2}]\n",
    "Output: [‘ria’, ‘my’, ‘is’, ‘name’]\n",
    "Explanation: The set of unique keys are {“ria”, “my”, “Is”, “name”}.\n",
    "\n",
    "Input: arr = [{‘X’: 100, ‘Y’: 2}, {‘Z’: 1, ‘Z’: 30}, {‘X’: 21}]\n",
    "Output: [‘Z’, ‘X’, ‘Y’]\n",
    "Explanation: The set of unique keys are {“X”, “Y”, “Z”}\n",
    "\n",
    "-----------------------------------------"
   ]
  },
  {
   "cell_type": "code",
   "execution_count": 10,
   "id": "168abac3",
   "metadata": {},
   "outputs": [],
   "source": [
    "def Uniq(d):\n",
    "    c = list()\n",
    "    z = None\n",
    "    for i in d:\n",
    "        for j in i:\n",
    "            c.append(j)\n",
    "    \n",
    "    return list(set(c))"
   ]
  },
  {
   "cell_type": "code",
   "execution_count": 11,
   "id": "908e983c",
   "metadata": {},
   "outputs": [
    {
     "data": {
      "text/plain": [
       "['ria', 'name', 'my', 'is']"
      ]
     },
     "execution_count": 11,
     "metadata": {},
     "output_type": "execute_result"
    }
   ],
   "source": [
    "Uniq([{'my': 1, 'name': 2}, {'is': 1, 'my': 3}, {'ria': 2}])"
   ]
  },
  {
   "cell_type": "markdown",
   "id": "da268779",
   "metadata": {},
   "source": [
    "### 8)WAP to extract dictionaries with maximum number of keys\n",
    "\n",
    "Input : test_list = [{‘Gfg’ : 1}, {‘Gfg’ : 1, ‘is’ : 5, ‘best’ : 4}, {‘Gfg’ : 2, ‘best’ : 9}]\n",
    "\n",
    "Output : {‘Gfg’ : 1, ‘is’ : 5, ‘best’ : 4}\n",
    "\n",
    "Explanation : Dictionary with max. length 3 is output.\n",
    "\n",
    "Input : test_list = [{‘Gfg’ : 1}, {‘Gfg’ : 2, ‘best’ : 9}]\n",
    "\n",
    "Output : {‘Gfg’ : 2, ‘best’ : 9}\n",
    "\n",
    "Explanation : Dictionary with max. length 2 is output.\n",
    "\n",
    "-----------------------------------------------------------"
   ]
  },
  {
   "cell_type": "code",
   "execution_count": 12,
   "id": "a513f7a0",
   "metadata": {},
   "outputs": [],
   "source": [
    "def MaxDict(d):\n",
    "    c = 0\n",
    "    z = None\n",
    "    for i in d:\n",
    "        if len(i.keys())>c:\n",
    "            c = len(i.keys())\n",
    "            z = i\n",
    "    return z"
   ]
  },
  {
   "cell_type": "code",
   "execution_count": 13,
   "id": "0f9842f0",
   "metadata": {},
   "outputs": [
    {
     "data": {
      "text/plain": [
       "{'Gfg': 1, 'is': 5, 'best': 4}"
      ]
     },
     "execution_count": 13,
     "metadata": {},
     "output_type": "execute_result"
    }
   ],
   "source": [
    "MaxDict([{'Gfg' : 1}, {'Gfg' : 1, 'is' : 5, 'best' : 4}, {'Gfg' : 2, 'best' : 9}])"
   ]
  },
  {
   "cell_type": "code",
   "execution_count": 14,
   "id": "ce21f63c",
   "metadata": {},
   "outputs": [
    {
     "data": {
      "text/plain": [
       "{'Gfg': 2, 'best': 9}"
      ]
     },
     "execution_count": 14,
     "metadata": {},
     "output_type": "execute_result"
    }
   ],
   "source": [
    "MaxDict([{'Gfg' : 1}, {'Gfg' : 2, 'best' : 9}])"
   ]
  },
  {
   "cell_type": "markdown",
   "id": "f3ac4a2f",
   "metadata": {},
   "source": [
    "### 9)Given dictionary with mixed data types as values, the task is to write a Python program to convert to parsed strings by different delims.\n",
    "\n",
    "Input : test_dict = {‘Gfg’ : 4, ‘is’ : “1”, ‘best’ : [8, 10], ‘geek’ : (10, 11, 2)}, list_delim, tuple_delim = ‘-‘, ‘^’\n",
    "\n",
    "Output : {‘Gfg’: ‘4’, ‘is’: ‘1’, ‘best’: ‘8-10’, ‘geek’: ’10^11^2′}\n",
    "\n",
    "Explanation : List elements are joined by -, tuples by ^ symbol.\n",
    "\n",
    "Input : test_dict = {‘Gfg’ : 4, ‘is’ : “1”, ‘best’ : [8, 10], ‘geek’ : (10, 11, 2)}, list_delim, tuple_delim = ‘*’, ‘,’\n",
    "\n",
    "Output : {‘Gfg’: ‘4’, ‘is’: ‘1’, ‘best’: ‘8*10’, ‘geek’: ‘10,11,2’}\n",
    "\n",
    "Explanation : List elements are joined by *, tuples by , symbol.\n",
    "\n",
    "-------------------------------------------------------------------"
   ]
  },
  {
   "cell_type": "code",
   "execution_count": 15,
   "id": "2d437f8a",
   "metadata": {},
   "outputs": [],
   "source": [
    "def Converter(d, list_delim = '-', tuple_delim = '^'):\n",
    "    for k in d:\n",
    "        if type(d[k]) == list : d[k]=list_delim.join([str(i) for i in d[k]])\n",
    "        elif type(d[k]) == tuple : d[k]=tuple_delim.join([str(i) for i in d[k]])\n",
    "            \n",
    "    return d        "
   ]
  },
  {
   "cell_type": "code",
   "execution_count": 16,
   "id": "fdece062",
   "metadata": {},
   "outputs": [
    {
     "data": {
      "text/plain": [
       "{'Gfg': 4, 'is': '1', 'best': '8-10', 'geek': '10^11^2'}"
      ]
     },
     "execution_count": 16,
     "metadata": {},
     "output_type": "execute_result"
    }
   ],
   "source": [
    "test_1 = {'Gfg' : 4, 'is' : '1', 'best' : [8, 10], 'geek' : (10, 11, 2)}\n",
    "\n",
    "Converter(test_1,'-','^')"
   ]
  },
  {
   "cell_type": "code",
   "execution_count": 17,
   "id": "2d94967b",
   "metadata": {},
   "outputs": [
    {
     "data": {
      "text/plain": [
       "{'Gfg': 4, 'is': '1', 'best': '8-10', 'geek': '10^11^2'}"
      ]
     },
     "execution_count": 17,
     "metadata": {},
     "output_type": "execute_result"
    }
   ],
   "source": [
    "Converter(test_1,'*',',')"
   ]
  },
  {
   "cell_type": "markdown",
   "id": "d629f513",
   "metadata": {},
   "source": [
    "### 10)WAP to Remove Nth element from Kth key’s value from the dictionary\n",
    "\n",
    "Input : test_dict = {“gfg” : [9, 4, 5, 2, 3, 2], “is” : [1, 2, 3, 4, 3, 2], “best” : [2, 2, 2, 3, 4]}, K, N = “gfg”, 2\n",
    "\n",
    "Output : {‘gfg’: [9, 4, 5, 3], ‘is’: [1, 2, 3, 4, 3, 2], ‘best’: [2, 2, 2, 3, 4]}\n",
    "\n",
    "Explanation : 2 removed from “gfg” key’s value list.\n",
    "\n",
    "Input : test_dict = {“gfg” : [9, 4, 5, 2, 3, 2], “is” : [1, 2, 3, 4, 3, 2], “best” : [2, 2, 2, 3, 4]}, K, N = “gfg”, 4\n",
    "\n",
    "Output : {‘gfg’: [9, 5, 2, 3, 2], ‘is’: [1, 2, 3, 4, 3, 2], ‘best’: [2, 2, 2, 3, 4]}\n",
    "\n",
    "Explanation : 4 removed from “gfg” key’s value list.\n",
    "\n",
    "-------------------------------------------------------------------"
   ]
  },
  {
   "cell_type": "code",
   "execution_count": 18,
   "id": "7b1859e5",
   "metadata": {},
   "outputs": [],
   "source": [
    "def Remover(d, K = 'gfg', N = 2):\n",
    "    for k in d:\n",
    "        if k == K : \n",
    "            d[k].pop(N-1)\n",
    "            d[k] = d[k]\n",
    "                   \n",
    "    return d"
   ]
  },
  {
   "cell_type": "code",
   "execution_count": 19,
   "id": "8963f81f",
   "metadata": {},
   "outputs": [
    {
     "data": {
      "text/plain": [
       "{'gfg': [9, 5, 2, 3, 2], 'is': [1, 2, 3, 4, 3, 2], 'best': [2, 2, 2, 3, 4]}"
      ]
     },
     "execution_count": 19,
     "metadata": {},
     "output_type": "execute_result"
    }
   ],
   "source": [
    "Remover({'gfg' : [9, 4, 5, 2, 3, 2], 'is' : [1, 2, 3, 4, 3, 2], 'best' : [2, 2, 2, 3, 4]})"
   ]
  },
  {
   "cell_type": "code",
   "execution_count": 20,
   "id": "42f3e2de",
   "metadata": {},
   "outputs": [
    {
     "data": {
      "text/plain": [
       "{'gfg': [9, 4, 5, 3, 2], 'is': [1, 2, 3, 4, 3, 2], 'best': [2, 2, 2, 3, 4]}"
      ]
     },
     "execution_count": 20,
     "metadata": {},
     "output_type": "execute_result"
    }
   ],
   "source": [
    "Remover({'gfg' : [9, 4, 5, 2, 3, 2], 'is' : [1, 2, 3, 4, 3, 2], 'best' : [2, 2, 2, 3, 4]},'gfg',4)"
   ]
  },
  {
   "cell_type": "code",
   "execution_count": null,
   "id": "023c98ac",
   "metadata": {},
   "outputs": [],
   "source": []
  }
 ],
 "metadata": {
  "kernelspec": {
   "display_name": "Python 3 (ipykernel)",
   "language": "python",
   "name": "python3"
  },
  "language_info": {
   "codemirror_mode": {
    "name": "ipython",
    "version": 3
   },
   "file_extension": ".py",
   "mimetype": "text/x-python",
   "name": "python",
   "nbconvert_exporter": "python",
   "pygments_lexer": "ipython3",
   "version": "3.10.1"
  }
 },
 "nbformat": 4,
 "nbformat_minor": 5
}
