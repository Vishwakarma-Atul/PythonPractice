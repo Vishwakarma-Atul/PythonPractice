{
 "cells": [
  {
   "cell_type": "markdown",
   "id": "487c9acc",
   "metadata": {},
   "source": [
    "### 1) Given a string. the task is to check if the string is palindrome or not. \n",
    "A string is said to be a palindrome string if one half of the string is \n",
    "the reverse of the other half or if a string appears same when read forward or backward.\n",
    "Example: \n",
    "Input: abbabb\n",
    "Output: The entered string is not palindrome\n",
    "\n",
    "Input: abaaba\n",
    "Output: The entered string is palindrome"
   ]
  },
  {
   "cell_type": "code",
   "execution_count": 1,
   "id": "2e41afff",
   "metadata": {},
   "outputs": [],
   "source": [
    "def palindrome(s):\n",
    "    return 'The entered string is palindrome' if s==s[::-1] else 'The entered string is not palindrome'"
   ]
  },
  {
   "cell_type": "code",
   "execution_count": 2,
   "id": "57065682",
   "metadata": {},
   "outputs": [
    {
     "data": {
      "text/plain": [
       "'The entered string is not palindrome'"
      ]
     },
     "execution_count": 2,
     "metadata": {},
     "output_type": "execute_result"
    }
   ],
   "source": [
    "palindrome('abaabac')"
   ]
  },
  {
   "cell_type": "markdown",
   "id": "f2859577",
   "metadata": {},
   "source": [
    "### 2) Given a string, The task is to reverse words of the given string\n",
    "Examples:\n",
    "Input : str = My name is Vidya\n",
    "Output : str = Vidya is name My"
   ]
  },
  {
   "cell_type": "code",
   "execution_count": 3,
   "id": "414fa49c",
   "metadata": {},
   "outputs": [],
   "source": [
    "def ReverseWords(s):\n",
    "    return (' ').join((s.split(' ')[::-1]))"
   ]
  },
  {
   "cell_type": "code",
   "execution_count": 4,
   "id": "d05a7e5b",
   "metadata": {},
   "outputs": [
    {
     "data": {
      "text/plain": [
       "'Vidya is name My'"
      ]
     },
     "execution_count": 4,
     "metadata": {},
     "output_type": "execute_result"
    }
   ],
   "source": [
    "ReverseWords('My name is Vidya')"
   ]
  },
  {
   "cell_type": "markdown",
   "id": "5494fec2",
   "metadata": {},
   "source": [
    "### 3) Given a string, take an integer input from user and remove character at that index.\n",
    "If user enters number that is greater than the length of string then output should be\n",
    "\"The given index can not be reached\"\n",
    "Example: \n",
    "Input: Russia\n",
    "User input: 3#s[:3]+[4:]\n",
    "Output: Rusia\n",
    "\n",
    "Input: Russia\n",
    "User input: 9\n",
    "Output: The given index can not be reached"
   ]
  },
  {
   "cell_type": "code",
   "execution_count": 5,
   "id": "b9452d8e",
   "metadata": {},
   "outputs": [],
   "source": [
    "def RemoveCharacter(s,i):\n",
    "    if i > len(s):\n",
    "        print(\"The given index can not be reached\")\n",
    "    else :\n",
    "        return s[:i]+s[i+1:]\n"
   ]
  },
  {
   "cell_type": "code",
   "execution_count": 6,
   "id": "193f8bf7",
   "metadata": {},
   "outputs": [
    {
     "data": {
      "text/plain": [
       "'Rusia'"
      ]
     },
     "execution_count": 6,
     "metadata": {},
     "output_type": "execute_result"
    }
   ],
   "source": [
    "RemoveCharacter('Russia', 3)"
   ]
  },
  {
   "cell_type": "markdown",
   "id": "5f24d649",
   "metadata": {},
   "source": [
    "### 4) Given a string, find its length without using len() function and for loop.\n",
    "Example:\n",
    "Input: Russia\n",
    "Output: 6\n",
    "\n",
    "Input: My name is Vidya\n",
    "Output: 16"
   ]
  },
  {
   "cell_type": "code",
   "execution_count": 7,
   "id": "7430a859",
   "metadata": {},
   "outputs": [],
   "source": [
    "def StringLength(s):\n",
    "    \n",
    "    return s.count('')-1"
   ]
  },
  {
   "cell_type": "code",
   "execution_count": 8,
   "id": "9af96064",
   "metadata": {},
   "outputs": [
    {
     "data": {
      "text/plain": [
       "13"
      ]
     },
     "execution_count": 8,
     "metadata": {},
     "output_type": "execute_result"
    }
   ],
   "source": [
    "StringLength(\"MynameisVidya\")"
   ]
  },
  {
   "cell_type": "markdown",
   "id": "6a2dfaa3",
   "metadata": {},
   "source": [
    "### 5) Given a String, count length of string, except spaces.\n",
    "\n",
    "Input : test_str = My name is Vidya\n",
    "Output : 13\n",
    "Input : test_str = India is my country\n",
    "Output : 16"
   ]
  },
  {
   "cell_type": "code",
   "execution_count": 9,
   "id": "e7edd9d1",
   "metadata": {},
   "outputs": [],
   "source": [
    "def CharacterLength(s):\n",
    "    l = s.replace(' ','')\n",
    "    return len(l)"
   ]
  },
  {
   "cell_type": "code",
   "execution_count": 10,
   "id": "9dff5333",
   "metadata": {},
   "outputs": [
    {
     "data": {
      "text/plain": [
       "13"
      ]
     },
     "execution_count": 10,
     "metadata": {},
     "output_type": "execute_result"
    }
   ],
   "source": [
    "CharacterLength('My name is Vidya')"
   ]
  },
  {
   "cell_type": "markdown",
   "id": "0265c008",
   "metadata": {},
   "source": [
    "### 6) Given a string, rearrange the string words in increasing length order, and each word should start with capital letter.\n",
    "\n",
    "Input : test_str = My name is Vidya\n",
    "Output : My Is Name Vidya\n",
    "Input : test_str = India is my country\n",
    "Output : Is My India Country"
   ]
  },
  {
   "cell_type": "code",
   "execution_count": 11,
   "id": "8df50991",
   "metadata": {},
   "outputs": [],
   "source": [
    "def Rearrange(s):\n",
    "    l = s.title()\n",
    "    L = l.split()\n",
    "    L.sort(key = len)\n",
    "    return ' '.join(L)\n",
    "    #print (*L, end= ' ')"
   ]
  },
  {
   "cell_type": "code",
   "execution_count": 12,
   "id": "096932c4",
   "metadata": {},
   "outputs": [
    {
     "data": {
      "text/plain": [
       "'Is My India Country'"
      ]
     },
     "execution_count": 12,
     "metadata": {},
     "output_type": "execute_result"
    }
   ],
   "source": [
    "Rearrange('India is my country')"
   ]
  },
  {
   "cell_type": "code",
   "execution_count": null,
   "id": "25fba41f",
   "metadata": {},
   "outputs": [],
   "source": []
  }
 ],
 "metadata": {
  "kernelspec": {
   "display_name": "Python 3 (ipykernel)",
   "language": "python",
   "name": "python3"
  },
  "language_info": {
   "codemirror_mode": {
    "name": "ipython",
    "version": 3
   },
   "file_extension": ".py",
   "mimetype": "text/x-python",
   "name": "python",
   "nbconvert_exporter": "python",
   "pygments_lexer": "ipython3",
   "version": "3.10.1"
  }
 },
 "nbformat": 4,
 "nbformat_minor": 5
}
